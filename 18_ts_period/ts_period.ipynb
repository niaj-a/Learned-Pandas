{
 "cells": [
  {
   "cell_type": "code",
   "id": "initial_id",
   "metadata": {
    "collapsed": true,
    "ExecuteTime": {
     "end_time": "2025-06-15T07:06:41.489723Z",
     "start_time": "2025-06-15T07:06:41.485141Z"
    }
   },
   "source": [
    "import pandas as pd\n",
    "y = pd.Period('2025')"
   ],
   "outputs": [],
   "execution_count": 6
  },
  {
   "metadata": {
    "ExecuteTime": {
     "end_time": "2025-06-15T07:06:46.431892Z",
     "start_time": "2025-06-15T07:06:46.387667Z"
    }
   },
   "cell_type": "code",
   "source": "y.start_time",
   "id": "4c29831ef2b17cc5",
   "outputs": [
    {
     "data": {
      "text/plain": [
       "Timestamp('2025-01-01 00:00:00')"
      ]
     },
     "execution_count": 7,
     "metadata": {},
     "output_type": "execute_result"
    }
   ],
   "execution_count": 7
  },
  {
   "metadata": {
    "ExecuteTime": {
     "end_time": "2025-06-15T07:06:55.177406Z",
     "start_time": "2025-06-15T07:06:55.169068Z"
    }
   },
   "cell_type": "code",
   "source": "y.end_time",
   "id": "6d9bd44dd35f24f7",
   "outputs": [
    {
     "data": {
      "text/plain": [
       "Timestamp('2025-12-31 23:59:59.999999999')"
      ]
     },
     "execution_count": 8,
     "metadata": {},
     "output_type": "execute_result"
    }
   ],
   "execution_count": 8
  },
  {
   "metadata": {
    "ExecuteTime": {
     "end_time": "2025-06-15T07:07:10.603565Z",
     "start_time": "2025-06-15T07:07:10.599046Z"
    }
   },
   "cell_type": "code",
   "source": "y.is_leap_year",
   "id": "583309f4287c1109",
   "outputs": [
    {
     "data": {
      "text/plain": [
       "False"
      ]
     },
     "execution_count": 9,
     "metadata": {},
     "output_type": "execute_result"
    }
   ],
   "execution_count": 9
  },
  {
   "metadata": {},
   "cell_type": "markdown",
   "source": "Monthly Period",
   "id": "3e74cecf491f11ae"
  },
  {
   "metadata": {
    "ExecuteTime": {
     "end_time": "2025-06-15T07:08:13.979538Z",
     "start_time": "2025-06-15T07:08:13.970861Z"
    }
   },
   "cell_type": "code",
   "source": [
    "m = pd.Period('2025-6')\n",
    "m"
   ],
   "id": "34447f574cdce646",
   "outputs": [
    {
     "data": {
      "text/plain": [
       "Period('2025-06', 'M')"
      ]
     },
     "execution_count": 11,
     "metadata": {},
     "output_type": "execute_result"
    }
   ],
   "execution_count": 11
  },
  {
   "metadata": {
    "ExecuteTime": {
     "end_time": "2025-06-15T07:08:30.482236Z",
     "start_time": "2025-06-15T07:08:30.477199Z"
    }
   },
   "cell_type": "code",
   "source": "m.start_time",
   "id": "d778901135c35bc7",
   "outputs": [
    {
     "data": {
      "text/plain": [
       "Timestamp('2025-06-01 00:00:00')"
      ]
     },
     "execution_count": 13,
     "metadata": {},
     "output_type": "execute_result"
    }
   ],
   "execution_count": 13
  },
  {
   "metadata": {
    "ExecuteTime": {
     "end_time": "2025-06-15T07:08:40.748423Z",
     "start_time": "2025-06-15T07:08:40.743649Z"
    }
   },
   "cell_type": "code",
   "source": "m.end_time",
   "id": "681e05342a53663e",
   "outputs": [
    {
     "data": {
      "text/plain": [
       "Timestamp('2025-06-30 23:59:59.999999999')"
      ]
     },
     "execution_count": 14,
     "metadata": {},
     "output_type": "execute_result"
    }
   ],
   "execution_count": 14
  },
  {
   "metadata": {
    "ExecuteTime": {
     "end_time": "2025-06-15T07:11:40.032407Z",
     "start_time": "2025-06-15T07:11:40.027309Z"
    }
   },
   "cell_type": "code",
   "source": "m+1",
   "id": "da367bd1424b9710",
   "outputs": [
    {
     "data": {
      "text/plain": [
       "Period('2025-07', 'M')"
      ]
     },
     "execution_count": 16,
     "metadata": {},
     "output_type": "execute_result"
    }
   ],
   "execution_count": 16
  },
  {
   "metadata": {},
   "cell_type": "markdown",
   "source": "Daily Period",
   "id": "c87299e60c462514"
  },
  {
   "metadata": {
    "ExecuteTime": {
     "end_time": "2025-06-15T07:12:36.433679Z",
     "start_time": "2025-06-15T07:12:36.429024Z"
    }
   },
   "cell_type": "code",
   "source": "d = pd.Period('2025-6-15', freq='D')",
   "id": "777119e33535d3fa",
   "outputs": [],
   "execution_count": 17
  },
  {
   "metadata": {
    "ExecuteTime": {
     "end_time": "2025-06-15T07:12:56.462985Z",
     "start_time": "2025-06-15T07:12:56.454499Z"
    }
   },
   "cell_type": "code",
   "source": "d.start_time",
   "id": "7a6705492ba44623",
   "outputs": [
    {
     "data": {
      "text/plain": [
       "Timestamp('2025-06-15 00:00:00')"
      ]
     },
     "execution_count": 18,
     "metadata": {},
     "output_type": "execute_result"
    }
   ],
   "execution_count": 18
  },
  {
   "metadata": {
    "ExecuteTime": {
     "end_time": "2025-06-15T07:13:05.737566Z",
     "start_time": "2025-06-15T07:13:05.722726Z"
    }
   },
   "cell_type": "code",
   "source": "d.end_time",
   "id": "c4fb8824daeea0d",
   "outputs": [
    {
     "data": {
      "text/plain": [
       "Timestamp('2025-06-15 23:59:59.999999999')"
      ]
     },
     "execution_count": 19,
     "metadata": {},
     "output_type": "execute_result"
    }
   ],
   "execution_count": 19
  },
  {
   "metadata": {
    "ExecuteTime": {
     "end_time": "2025-06-15T07:13:15.618938Z",
     "start_time": "2025-06-15T07:13:15.614304Z"
    }
   },
   "cell_type": "code",
   "source": "d+1",
   "id": "72fdc939eda5bada",
   "outputs": [
    {
     "data": {
      "text/plain": [
       "Period('2025-06-16', 'D')"
      ]
     },
     "execution_count": 20,
     "metadata": {},
     "output_type": "execute_result"
    }
   ],
   "execution_count": 20
  },
  {
   "metadata": {},
   "cell_type": "markdown",
   "source": "Hourly Period",
   "id": "f53cd172826c87d"
  },
  {
   "metadata": {
    "ExecuteTime": {
     "end_time": "2025-06-15T07:15:33.319171Z",
     "start_time": "2025-06-15T07:15:33.312421Z"
    }
   },
   "cell_type": "code",
   "source": [
    "h = pd.Period('2025-6-15', freq='h')\n",
    "h"
   ],
   "id": "41d75fd9e956462f",
   "outputs": [
    {
     "data": {
      "text/plain": [
       "Period('2025-06-15 00:00', 'h')"
      ]
     },
     "execution_count": 23,
     "metadata": {},
     "output_type": "execute_result"
    }
   ],
   "execution_count": 23
  },
  {
   "metadata": {
    "ExecuteTime": {
     "end_time": "2025-06-15T07:15:41.386222Z",
     "start_time": "2025-06-15T07:15:41.377962Z"
    }
   },
   "cell_type": "code",
   "source": "h+2",
   "id": "2985c5f7cafd7a26",
   "outputs": [
    {
     "data": {
      "text/plain": [
       "Period('2025-06-15 02:00', 'h')"
      ]
     },
     "execution_count": 24,
     "metadata": {},
     "output_type": "execute_result"
    }
   ],
   "execution_count": 24
  },
  {
   "metadata": {},
   "cell_type": "markdown",
   "source": "Achieve same results using pandas offsets hour",
   "id": "172752b99460a645"
  },
  {
   "metadata": {
    "ExecuteTime": {
     "end_time": "2025-06-15T07:16:41.336408Z",
     "start_time": "2025-06-15T07:16:41.331210Z"
    }
   },
   "cell_type": "code",
   "source": "h + pd.offsets.Hour(3)",
   "id": "4167d759ce5f0053",
   "outputs": [
    {
     "data": {
      "text/plain": [
       "Period('2025-06-15 03:00', 'h')"
      ]
     },
     "execution_count": 26,
     "metadata": {},
     "output_type": "execute_result"
    }
   ],
   "execution_count": 26
  },
  {
   "metadata": {},
   "cell_type": "markdown",
   "source": "Quarterly Period",
   "id": "3939712371a8b147"
  },
  {
   "metadata": {
    "ExecuteTime": {
     "end_time": "2025-06-15T07:24:34.689729Z",
     "start_time": "2025-06-15T07:24:34.682912Z"
    }
   },
   "cell_type": "code",
   "source": [
    "q1 = pd.Period('2025Q1', freq='Q-FEB')\n",
    "q1"
   ],
   "id": "4d7615a815c5692",
   "outputs": [
    {
     "data": {
      "text/plain": [
       "Period('2025Q1', 'Q-FEB')"
      ]
     },
     "execution_count": 30,
     "metadata": {},
     "output_type": "execute_result"
    }
   ],
   "execution_count": 30
  },
  {
   "metadata": {
    "ExecuteTime": {
     "end_time": "2025-06-15T07:24:38.229128Z",
     "start_time": "2025-06-15T07:24:38.223483Z"
    }
   },
   "cell_type": "code",
   "source": "q1.start_time",
   "id": "bd83d8479880bed4",
   "outputs": [
    {
     "data": {
      "text/plain": [
       "Timestamp('2024-03-01 00:00:00')"
      ]
     },
     "execution_count": 32,
     "metadata": {},
     "output_type": "execute_result"
    }
   ],
   "execution_count": 32
  },
  {
   "metadata": {
    "ExecuteTime": {
     "end_time": "2025-06-15T07:25:05.785774Z",
     "start_time": "2025-06-15T07:25:05.780472Z"
    }
   },
   "cell_type": "code",
   "source": "q1.end_time",
   "id": "3ad3c63eaa3de3ee",
   "outputs": [
    {
     "data": {
      "text/plain": [
       "Timestamp('2024-05-31 23:59:59.999999999')"
      ]
     },
     "execution_count": 33,
     "metadata": {},
     "output_type": "execute_result"
    }
   ],
   "execution_count": 33
  },
  {
   "metadata": {},
   "cell_type": "markdown",
   "source": "Use asfreq to convert period to a different frequency",
   "id": "12945cb0c96e1a6f"
  },
  {
   "metadata": {
    "ExecuteTime": {
     "end_time": "2025-06-15T07:26:02.542451Z",
     "start_time": "2025-06-15T07:26:02.537738Z"
    }
   },
   "cell_type": "code",
   "source": "q1.asfreq('M',how='start')",
   "id": "66fbf95b190666c",
   "outputs": [
    {
     "data": {
      "text/plain": [
       "Period('2024-03', 'M')"
      ]
     },
     "execution_count": 34,
     "metadata": {},
     "output_type": "execute_result"
    }
   ],
   "execution_count": 34
  },
  {
   "metadata": {
    "ExecuteTime": {
     "end_time": "2025-06-15T07:27:00.809545Z",
     "start_time": "2025-06-15T07:27:00.804243Z"
    }
   },
   "cell_type": "code",
   "source": "q1.asfreq('M',how='end')",
   "id": "534da48ea119f77d",
   "outputs": [
    {
     "data": {
      "text/plain": [
       "Period('2024-05', 'M')"
      ]
     },
     "execution_count": 35,
     "metadata": {},
     "output_type": "execute_result"
    }
   ],
   "execution_count": 35
  },
  {
   "metadata": {},
   "cell_type": "markdown",
   "source": "Weekly Period",
   "id": "fe7c31bb579609ed"
  },
  {
   "metadata": {
    "ExecuteTime": {
     "end_time": "2025-06-15T07:44:06.209851Z",
     "start_time": "2025-06-15T07:44:06.204148Z"
    }
   },
   "cell_type": "code",
   "source": [
    "w = pd.Period('2017-07-15',freq='W')\n",
    "w"
   ],
   "id": "faf2f4f40dc62b83",
   "outputs": [
    {
     "data": {
      "text/plain": [
       "Period('2017-07-10/2017-07-16', 'W-SUN')"
      ]
     },
     "execution_count": 37,
     "metadata": {},
     "output_type": "execute_result"
    }
   ],
   "execution_count": 37
  },
  {
   "metadata": {
    "ExecuteTime": {
     "end_time": "2025-06-15T07:44:28.982990Z",
     "start_time": "2025-06-15T07:44:28.978383Z"
    }
   },
   "cell_type": "code",
   "source": "w-1",
   "id": "3fdecc8031932fc5",
   "outputs": [
    {
     "data": {
      "text/plain": [
       "Period('2017-07-03/2017-07-09', 'W-SUN')"
      ]
     },
     "execution_count": 39,
     "metadata": {},
     "output_type": "execute_result"
    }
   ],
   "execution_count": 39
  },
  {
   "metadata": {
    "ExecuteTime": {
     "end_time": "2025-06-15T07:45:45.840614Z",
     "start_time": "2025-06-15T07:45:45.833867Z"
    }
   },
   "cell_type": "code",
   "source": [
    "w2 = pd.Period('2025-02-28',freq='W')\n",
    "w2"
   ],
   "id": "8a0f1704d0b770dd",
   "outputs": [
    {
     "data": {
      "text/plain": [
       "Period('2025-02-24/2025-03-02', 'W-SUN')"
      ]
     },
     "execution_count": 40,
     "metadata": {},
     "output_type": "execute_result"
    }
   ],
   "execution_count": 40
  },
  {
   "metadata": {
    "ExecuteTime": {
     "end_time": "2025-06-15T07:47:47.585999Z",
     "start_time": "2025-06-15T07:47:47.576644Z"
    }
   },
   "cell_type": "code",
   "source": "w2-w",
   "id": "74ee738883fc4d6d",
   "outputs": [
    {
     "data": {
      "text/plain": [
       "<398 * Weeks: weekday=6>"
      ]
     },
     "execution_count": 41,
     "metadata": {},
     "output_type": "execute_result"
    }
   ],
   "execution_count": 41
  },
  {
   "metadata": {},
   "cell_type": "markdown",
   "source": "PeriodIndex and period_range",
   "id": "59c8c972737c23ee"
  },
  {
   "metadata": {
    "ExecuteTime": {
     "end_time": "2025-06-15T07:50:34.425144Z",
     "start_time": "2025-06-15T07:50:34.419401Z"
    }
   },
   "cell_type": "code",
   "source": [
    "r = pd.period_range('2020','2025', freq='Q')\n",
    "r"
   ],
   "id": "f937661269be1a60",
   "outputs": [
    {
     "data": {
      "text/plain": [
       "PeriodIndex(['2020Q1', '2020Q2', '2020Q3', '2020Q4', '2021Q1', '2021Q2',\n",
       "             '2021Q3', '2021Q4', '2022Q1', '2022Q2', '2022Q3', '2022Q4',\n",
       "             '2023Q1', '2023Q2', '2023Q3', '2023Q4', '2024Q1', '2024Q2',\n",
       "             '2024Q3', '2024Q4', '2025Q1'],\n",
       "            dtype='period[Q-DEC]')"
      ]
     },
     "execution_count": 43,
     "metadata": {},
     "output_type": "execute_result"
    }
   ],
   "execution_count": 43
  },
  {
   "metadata": {
    "ExecuteTime": {
     "end_time": "2025-06-15T07:50:49.042879Z",
     "start_time": "2025-06-15T07:50:49.033180Z"
    }
   },
   "cell_type": "code",
   "source": "r[0].start_time",
   "id": "b431fc119178bd9d",
   "outputs": [
    {
     "data": {
      "text/plain": [
       "Timestamp('2020-01-01 00:00:00')"
      ]
     },
     "execution_count": 44,
     "metadata": {},
     "output_type": "execute_result"
    }
   ],
   "execution_count": 44
  },
  {
   "metadata": {
    "ExecuteTime": {
     "end_time": "2025-06-15T07:52:15.798325Z",
     "start_time": "2025-06-15T07:52:15.792168Z"
    }
   },
   "cell_type": "code",
   "source": "r[0].end_time",
   "id": "e31074f073e7ab14",
   "outputs": [
    {
     "data": {
      "text/plain": [
       "Timestamp('2020-03-31 23:59:59.999999999')"
      ]
     },
     "execution_count": 45,
     "metadata": {},
     "output_type": "execute_result"
    }
   ],
   "execution_count": 45
  },
  {
   "metadata": {},
   "cell_type": "markdown",
   "source": "Walmart's fiscal year ends in Jan, below is how you generate walmart's fiscal quarters between 2020 and 2025",
   "id": "9a0e44d6d5e9454a"
  },
  {
   "metadata": {
    "ExecuteTime": {
     "end_time": "2025-06-15T08:58:45.737077Z",
     "start_time": "2025-06-15T08:58:45.727847Z"
    }
   },
   "cell_type": "code",
   "source": [
    "r = pd.period_range('2011', '2017', freq='Q-JAN')\n",
    "r"
   ],
   "id": "52a2020dfe9f2031",
   "outputs": [
    {
     "data": {
      "text/plain": [
       "PeriodIndex(['2011Q4', '2012Q1', '2012Q2', '2012Q3', '2012Q4', '2013Q1',\n",
       "             '2013Q2', '2013Q3', '2013Q4', '2014Q1', '2014Q2', '2014Q3',\n",
       "             '2014Q4', '2015Q1', '2015Q2', '2015Q3', '2015Q4', '2016Q1',\n",
       "             '2016Q2', '2016Q3', '2016Q4', '2017Q1', '2017Q2', '2017Q3',\n",
       "             '2017Q4'],\n",
       "            dtype='period[Q-JAN]')"
      ]
     },
     "execution_count": 54,
     "metadata": {},
     "output_type": "execute_result"
    }
   ],
   "execution_count": 54
  },
  {
   "metadata": {
    "ExecuteTime": {
     "end_time": "2025-06-15T08:58:48.926854Z",
     "start_time": "2025-06-15T08:58:48.921706Z"
    }
   },
   "cell_type": "code",
   "source": "r[0].start_time",
   "id": "1ae6ff83d08e145",
   "outputs": [
    {
     "data": {
      "text/plain": [
       "Timestamp('2010-11-01 00:00:00')"
      ]
     },
     "execution_count": 55,
     "metadata": {},
     "output_type": "execute_result"
    }
   ],
   "execution_count": 55
  },
  {
   "metadata": {
    "ExecuteTime": {
     "end_time": "2025-06-15T08:58:50.787075Z",
     "start_time": "2025-06-15T08:58:50.781242Z"
    }
   },
   "cell_type": "code",
   "source": "r[0].end_time",
   "id": "75bb3ef830dc9d7e",
   "outputs": [
    {
     "data": {
      "text/plain": [
       "Timestamp('2011-01-31 23:59:59.999999999')"
      ]
     },
     "execution_count": 56,
     "metadata": {},
     "output_type": "execute_result"
    }
   ],
   "execution_count": 56
  },
  {
   "metadata": {
    "ExecuteTime": {
     "end_time": "2025-06-15T09:06:00.768629Z",
     "start_time": "2025-06-15T09:06:00.762745Z"
    }
   },
   "cell_type": "code",
   "source": [
    "idx = pd.period_range(start='2016-01', freq='3M', periods=10)\n",
    "idx"
   ],
   "id": "607f1e5d8ed58132",
   "outputs": [
    {
     "data": {
      "text/plain": [
       "PeriodIndex(['2016-01', '2016-04', '2016-07', '2016-10', '2017-01', '2017-04',\n",
       "             '2017-07', '2017-10', '2018-01', '2018-04'],\n",
       "            dtype='period[3M]')"
      ]
     },
     "execution_count": 66,
     "metadata": {},
     "output_type": "execute_result"
    }
   ],
   "execution_count": 66
  },
  {
   "metadata": {
    "ExecuteTime": {
     "end_time": "2025-06-15T09:06:30.401990Z",
     "start_time": "2025-06-15T09:06:30.380562Z"
    }
   },
   "cell_type": "code",
   "source": [
    "import numpy as np\n",
    "ps = pd.Series(np.random.randn(len(idx)), idx)\n",
    "ps"
   ],
   "id": "eca27a22e596ab8e",
   "outputs": [
    {
     "data": {
      "text/plain": [
       "2016-01    0.993793\n",
       "2016-04   -1.536743\n",
       "2016-07   -0.086832\n",
       "2016-10   -1.516010\n",
       "2017-01    1.225495\n",
       "2017-04   -1.968242\n",
       "2017-07   -1.554551\n",
       "2017-10    0.874048\n",
       "2018-01    0.076246\n",
       "2018-04   -1.906030\n",
       "Freq: 3M, dtype: float64"
      ]
     },
     "execution_count": 70,
     "metadata": {},
     "output_type": "execute_result"
    }
   ],
   "execution_count": 70
  },
  {
   "metadata": {},
   "cell_type": "markdown",
   "source": "Partial Indexing",
   "id": "15f8be9e4d43f17f"
  },
  {
   "metadata": {
    "ExecuteTime": {
     "end_time": "2025-06-15T09:07:01.329993Z",
     "start_time": "2025-06-15T09:07:01.317972Z"
    }
   },
   "cell_type": "code",
   "source": "ps['2016']",
   "id": "e7a7aad75e554ea5",
   "outputs": [
    {
     "data": {
      "text/plain": [
       "2016-01    0.993793\n",
       "2016-04   -1.536743\n",
       "2016-07   -0.086832\n",
       "2016-10   -1.516010\n",
       "Freq: 3M, dtype: float64"
      ]
     },
     "execution_count": 71,
     "metadata": {},
     "output_type": "execute_result"
    }
   ],
   "execution_count": 71
  },
  {
   "metadata": {
    "ExecuteTime": {
     "end_time": "2025-06-15T09:07:21.447783Z",
     "start_time": "2025-06-15T09:07:21.433329Z"
    }
   },
   "cell_type": "code",
   "source": "ps['2016':'2017']",
   "id": "9fb1c8ed77918468",
   "outputs": [
    {
     "data": {
      "text/plain": [
       "2016-01    0.993793\n",
       "2016-04   -1.536743\n",
       "2016-07   -0.086832\n",
       "2016-10   -1.516010\n",
       "2017-01    1.225495\n",
       "2017-04   -1.968242\n",
       "2017-07   -1.554551\n",
       "2017-10    0.874048\n",
       "Freq: 3M, dtype: float64"
      ]
     },
     "execution_count": 72,
     "metadata": {},
     "output_type": "execute_result"
    }
   ],
   "execution_count": 72
  },
  {
   "metadata": {},
   "cell_type": "markdown",
   "source": [
    "\n",
    "Converting between representations"
   ],
   "id": "f73c106ffd55be1c"
  },
  {
   "metadata": {
    "ExecuteTime": {
     "end_time": "2025-06-15T09:08:17.715692Z",
     "start_time": "2025-06-15T09:08:17.686526Z"
    }
   },
   "cell_type": "code",
   "source": [
    "pst = ps.to_timestamp()\n",
    "pst"
   ],
   "id": "d2f8521e9f296d25",
   "outputs": [
    {
     "data": {
      "text/plain": [
       "2016-01-01    0.993793\n",
       "2016-04-01   -1.536743\n",
       "2016-07-01   -0.086832\n",
       "2016-10-01   -1.516010\n",
       "2017-01-01    1.225495\n",
       "2017-04-01   -1.968242\n",
       "2017-07-01   -1.554551\n",
       "2017-10-01    0.874048\n",
       "2018-01-01    0.076246\n",
       "2018-04-01   -1.906030\n",
       "Freq: QS-OCT, dtype: float64"
      ]
     },
     "execution_count": 73,
     "metadata": {},
     "output_type": "execute_result"
    }
   ],
   "execution_count": 73
  },
  {
   "metadata": {
    "ExecuteTime": {
     "end_time": "2025-06-15T09:08:39.013459Z",
     "start_time": "2025-06-15T09:08:39.007907Z"
    }
   },
   "cell_type": "code",
   "source": "pst.index",
   "id": "ec1bb6758633e7ad",
   "outputs": [
    {
     "data": {
      "text/plain": [
       "DatetimeIndex(['2016-01-01', '2016-04-01', '2016-07-01', '2016-10-01',\n",
       "               '2017-01-01', '2017-04-01', '2017-07-01', '2017-10-01',\n",
       "               '2018-01-01', '2018-04-01'],\n",
       "              dtype='datetime64[ns]', freq='QS-OCT')"
      ]
     },
     "execution_count": 74,
     "metadata": {},
     "output_type": "execute_result"
    }
   ],
   "execution_count": 74
  },
  {
   "metadata": {
    "ExecuteTime": {
     "end_time": "2025-06-15T09:10:09.507089Z",
     "start_time": "2025-06-15T09:10:09.501152Z"
    }
   },
   "cell_type": "code",
   "source": [
    "ps = pst.to_period()\n",
    "ps"
   ],
   "id": "c88e37333d9f760d",
   "outputs": [
    {
     "data": {
      "text/plain": [
       "2016Q1    0.993793\n",
       "2016Q2   -1.536743\n",
       "2016Q3   -0.086832\n",
       "2016Q4   -1.516010\n",
       "2017Q1    1.225495\n",
       "2017Q2   -1.968242\n",
       "2017Q3   -1.554551\n",
       "2017Q4    0.874048\n",
       "2018Q1    0.076246\n",
       "2018Q2   -1.906030\n",
       "Freq: Q-DEC, dtype: float64"
      ]
     },
     "execution_count": 75,
     "metadata": {},
     "output_type": "execute_result"
    }
   ],
   "execution_count": 75
  },
  {
   "metadata": {
    "ExecuteTime": {
     "end_time": "2025-06-15T09:10:23.634303Z",
     "start_time": "2025-06-15T09:10:23.627518Z"
    }
   },
   "cell_type": "code",
   "source": "ps.index",
   "id": "eadccef4bc5b9790",
   "outputs": [
    {
     "data": {
      "text/plain": [
       "PeriodIndex(['2016Q1', '2016Q2', '2016Q3', '2016Q4', '2017Q1', '2017Q2',\n",
       "             '2017Q3', '2017Q4', '2018Q1', '2018Q2'],\n",
       "            dtype='period[Q-DEC]')"
      ]
     },
     "execution_count": 76,
     "metadata": {},
     "output_type": "execute_result"
    }
   ],
   "execution_count": 76
  },
  {
   "metadata": {},
   "cell_type": "markdown",
   "source": "Processing Wal Mart's Financials",
   "id": "d036c8e3e779299a"
  },
  {
   "metadata": {
    "ExecuteTime": {
     "end_time": "2025-06-15T09:14:47.615176Z",
     "start_time": "2025-06-15T09:14:47.604384Z"
    }
   },
   "cell_type": "code",
   "source": [
    "import pandas as pd\n",
    "df = pd.read_csv(\"wmt.csv\")\n",
    "df"
   ],
   "id": "d9b6776fd5d0f14e",
   "outputs": [
    {
     "data": {
      "text/plain": [
       "  Line Item  2017Q1  2017Q2  2017Q3  2017Q4  2018Q1\n",
       "0   Revenue  115904  120854  118179  130936  117542\n",
       "1  Expenses   86544   89485   87484   97743   87688\n",
       "2    Profit   29360   31369   30695   33193   29854"
      ],
      "text/html": [
       "<div>\n",
       "<style scoped>\n",
       "    .dataframe tbody tr th:only-of-type {\n",
       "        vertical-align: middle;\n",
       "    }\n",
       "\n",
       "    .dataframe tbody tr th {\n",
       "        vertical-align: top;\n",
       "    }\n",
       "\n",
       "    .dataframe thead th {\n",
       "        text-align: right;\n",
       "    }\n",
       "</style>\n",
       "<table border=\"1\" class=\"dataframe\">\n",
       "  <thead>\n",
       "    <tr style=\"text-align: right;\">\n",
       "      <th></th>\n",
       "      <th>Line Item</th>\n",
       "      <th>2017Q1</th>\n",
       "      <th>2017Q2</th>\n",
       "      <th>2017Q3</th>\n",
       "      <th>2017Q4</th>\n",
       "      <th>2018Q1</th>\n",
       "    </tr>\n",
       "  </thead>\n",
       "  <tbody>\n",
       "    <tr>\n",
       "      <th>0</th>\n",
       "      <td>Revenue</td>\n",
       "      <td>115904</td>\n",
       "      <td>120854</td>\n",
       "      <td>118179</td>\n",
       "      <td>130936</td>\n",
       "      <td>117542</td>\n",
       "    </tr>\n",
       "    <tr>\n",
       "      <th>1</th>\n",
       "      <td>Expenses</td>\n",
       "      <td>86544</td>\n",
       "      <td>89485</td>\n",
       "      <td>87484</td>\n",
       "      <td>97743</td>\n",
       "      <td>87688</td>\n",
       "    </tr>\n",
       "    <tr>\n",
       "      <th>2</th>\n",
       "      <td>Profit</td>\n",
       "      <td>29360</td>\n",
       "      <td>31369</td>\n",
       "      <td>30695</td>\n",
       "      <td>33193</td>\n",
       "      <td>29854</td>\n",
       "    </tr>\n",
       "  </tbody>\n",
       "</table>\n",
       "</div>"
      ]
     },
     "execution_count": 89,
     "metadata": {},
     "output_type": "execute_result"
    }
   ],
   "execution_count": 89
  },
  {
   "metadata": {
    "ExecuteTime": {
     "end_time": "2025-06-15T09:14:48.969234Z",
     "start_time": "2025-06-15T09:14:48.961450Z"
    }
   },
   "cell_type": "code",
   "source": [
    "df.set_index('Line Item', inplace=True)\n",
    "df = df.T\n",
    "df"
   ],
   "id": "d765d4428332e0e9",
   "outputs": [
    {
     "data": {
      "text/plain": [
       "Line Item  Revenue  Expenses  Profit\n",
       "2017Q1      115904     86544   29360\n",
       "2017Q2      120854     89485   31369\n",
       "2017Q3      118179     87484   30695\n",
       "2017Q4      130936     97743   33193\n",
       "2018Q1      117542     87688   29854"
      ],
      "text/html": [
       "<div>\n",
       "<style scoped>\n",
       "    .dataframe tbody tr th:only-of-type {\n",
       "        vertical-align: middle;\n",
       "    }\n",
       "\n",
       "    .dataframe tbody tr th {\n",
       "        vertical-align: top;\n",
       "    }\n",
       "\n",
       "    .dataframe thead th {\n",
       "        text-align: right;\n",
       "    }\n",
       "</style>\n",
       "<table border=\"1\" class=\"dataframe\">\n",
       "  <thead>\n",
       "    <tr style=\"text-align: right;\">\n",
       "      <th>Line Item</th>\n",
       "      <th>Revenue</th>\n",
       "      <th>Expenses</th>\n",
       "      <th>Profit</th>\n",
       "    </tr>\n",
       "  </thead>\n",
       "  <tbody>\n",
       "    <tr>\n",
       "      <th>2017Q1</th>\n",
       "      <td>115904</td>\n",
       "      <td>86544</td>\n",
       "      <td>29360</td>\n",
       "    </tr>\n",
       "    <tr>\n",
       "      <th>2017Q2</th>\n",
       "      <td>120854</td>\n",
       "      <td>89485</td>\n",
       "      <td>31369</td>\n",
       "    </tr>\n",
       "    <tr>\n",
       "      <th>2017Q3</th>\n",
       "      <td>118179</td>\n",
       "      <td>87484</td>\n",
       "      <td>30695</td>\n",
       "    </tr>\n",
       "    <tr>\n",
       "      <th>2017Q4</th>\n",
       "      <td>130936</td>\n",
       "      <td>97743</td>\n",
       "      <td>33193</td>\n",
       "    </tr>\n",
       "    <tr>\n",
       "      <th>2018Q1</th>\n",
       "      <td>117542</td>\n",
       "      <td>87688</td>\n",
       "      <td>29854</td>\n",
       "    </tr>\n",
       "  </tbody>\n",
       "</table>\n",
       "</div>"
      ]
     },
     "execution_count": 90,
     "metadata": {},
     "output_type": "execute_result"
    }
   ],
   "execution_count": 90
  },
  {
   "metadata": {
    "ExecuteTime": {
     "end_time": "2025-06-15T09:15:44.307215Z",
     "start_time": "2025-06-15T09:15:44.299757Z"
    }
   },
   "cell_type": "code",
   "source": [
    "df.index = pd.PeriodIndex(df.index, freq=\"Q-JAN\")\n",
    "df"
   ],
   "id": "c59c61e98f0e3bf5",
   "outputs": [
    {
     "data": {
      "text/plain": [
       "Line Item  Revenue  Expenses  Profit\n",
       "2017Q1      115904     86544   29360\n",
       "2017Q2      120854     89485   31369\n",
       "2017Q3      118179     87484   30695\n",
       "2017Q4      130936     97743   33193\n",
       "2018Q1      117542     87688   29854"
      ],
      "text/html": [
       "<div>\n",
       "<style scoped>\n",
       "    .dataframe tbody tr th:only-of-type {\n",
       "        vertical-align: middle;\n",
       "    }\n",
       "\n",
       "    .dataframe tbody tr th {\n",
       "        vertical-align: top;\n",
       "    }\n",
       "\n",
       "    .dataframe thead th {\n",
       "        text-align: right;\n",
       "    }\n",
       "</style>\n",
       "<table border=\"1\" class=\"dataframe\">\n",
       "  <thead>\n",
       "    <tr style=\"text-align: right;\">\n",
       "      <th>Line Item</th>\n",
       "      <th>Revenue</th>\n",
       "      <th>Expenses</th>\n",
       "      <th>Profit</th>\n",
       "    </tr>\n",
       "  </thead>\n",
       "  <tbody>\n",
       "    <tr>\n",
       "      <th>2017Q1</th>\n",
       "      <td>115904</td>\n",
       "      <td>86544</td>\n",
       "      <td>29360</td>\n",
       "    </tr>\n",
       "    <tr>\n",
       "      <th>2017Q2</th>\n",
       "      <td>120854</td>\n",
       "      <td>89485</td>\n",
       "      <td>31369</td>\n",
       "    </tr>\n",
       "    <tr>\n",
       "      <th>2017Q3</th>\n",
       "      <td>118179</td>\n",
       "      <td>87484</td>\n",
       "      <td>30695</td>\n",
       "    </tr>\n",
       "    <tr>\n",
       "      <th>2017Q4</th>\n",
       "      <td>130936</td>\n",
       "      <td>97743</td>\n",
       "      <td>33193</td>\n",
       "    </tr>\n",
       "    <tr>\n",
       "      <th>2018Q1</th>\n",
       "      <td>117542</td>\n",
       "      <td>87688</td>\n",
       "      <td>29854</td>\n",
       "    </tr>\n",
       "  </tbody>\n",
       "</table>\n",
       "</div>"
      ]
     },
     "execution_count": 91,
     "metadata": {},
     "output_type": "execute_result"
    }
   ],
   "execution_count": 91
  },
  {
   "metadata": {
    "ExecuteTime": {
     "end_time": "2025-06-15T09:17:15.505871Z",
     "start_time": "2025-06-15T09:17:15.500777Z"
    }
   },
   "cell_type": "code",
   "source": "df.index",
   "id": "25f9424e1de8033b",
   "outputs": [
    {
     "data": {
      "text/plain": [
       "PeriodIndex(['2017Q1', '2017Q2', '2017Q3', '2017Q4', '2018Q1'], dtype='period[Q-JAN]')"
      ]
     },
     "execution_count": 92,
     "metadata": {},
     "output_type": "execute_result"
    }
   ],
   "execution_count": 92
  },
  {
   "metadata": {
    "ExecuteTime": {
     "end_time": "2025-06-15T09:17:46.195944Z",
     "start_time": "2025-06-15T09:17:46.190683Z"
    }
   },
   "cell_type": "code",
   "source": "df.index[0].start_time",
   "id": "48cf030e6c654f08",
   "outputs": [
    {
     "data": {
      "text/plain": [
       "Timestamp('2016-02-01 00:00:00')"
      ]
     },
     "execution_count": 93,
     "metadata": {},
     "output_type": "execute_result"
    }
   ],
   "execution_count": 93
  },
  {
   "metadata": {},
   "cell_type": "markdown",
   "source": "Add start date end date columns to dataframe",
   "id": "62013319e5a3b024"
  },
  {
   "metadata": {
    "ExecuteTime": {
     "end_time": "2025-06-15T09:19:01.215849Z",
     "start_time": "2025-06-15T09:19:01.202227Z"
    }
   },
   "cell_type": "code",
   "source": [
    "df[\"Start Date\"] = df.index.map(lambda x: x.start_time)\n",
    "df"
   ],
   "id": "32b41b560b781ab3",
   "outputs": [
    {
     "data": {
      "text/plain": [
       "Line Item  Revenue  Expenses  Profit Start Date\n",
       "2017Q1      115904     86544   29360 2016-02-01\n",
       "2017Q2      120854     89485   31369 2016-05-01\n",
       "2017Q3      118179     87484   30695 2016-08-01\n",
       "2017Q4      130936     97743   33193 2016-11-01\n",
       "2018Q1      117542     87688   29854 2017-02-01"
      ],
      "text/html": [
       "<div>\n",
       "<style scoped>\n",
       "    .dataframe tbody tr th:only-of-type {\n",
       "        vertical-align: middle;\n",
       "    }\n",
       "\n",
       "    .dataframe tbody tr th {\n",
       "        vertical-align: top;\n",
       "    }\n",
       "\n",
       "    .dataframe thead th {\n",
       "        text-align: right;\n",
       "    }\n",
       "</style>\n",
       "<table border=\"1\" class=\"dataframe\">\n",
       "  <thead>\n",
       "    <tr style=\"text-align: right;\">\n",
       "      <th>Line Item</th>\n",
       "      <th>Revenue</th>\n",
       "      <th>Expenses</th>\n",
       "      <th>Profit</th>\n",
       "      <th>Start Date</th>\n",
       "    </tr>\n",
       "  </thead>\n",
       "  <tbody>\n",
       "    <tr>\n",
       "      <th>2017Q1</th>\n",
       "      <td>115904</td>\n",
       "      <td>86544</td>\n",
       "      <td>29360</td>\n",
       "      <td>2016-02-01</td>\n",
       "    </tr>\n",
       "    <tr>\n",
       "      <th>2017Q2</th>\n",
       "      <td>120854</td>\n",
       "      <td>89485</td>\n",
       "      <td>31369</td>\n",
       "      <td>2016-05-01</td>\n",
       "    </tr>\n",
       "    <tr>\n",
       "      <th>2017Q3</th>\n",
       "      <td>118179</td>\n",
       "      <td>87484</td>\n",
       "      <td>30695</td>\n",
       "      <td>2016-08-01</td>\n",
       "    </tr>\n",
       "    <tr>\n",
       "      <th>2017Q4</th>\n",
       "      <td>130936</td>\n",
       "      <td>97743</td>\n",
       "      <td>33193</td>\n",
       "      <td>2016-11-01</td>\n",
       "    </tr>\n",
       "    <tr>\n",
       "      <th>2018Q1</th>\n",
       "      <td>117542</td>\n",
       "      <td>87688</td>\n",
       "      <td>29854</td>\n",
       "      <td>2017-02-01</td>\n",
       "    </tr>\n",
       "  </tbody>\n",
       "</table>\n",
       "</div>"
      ]
     },
     "execution_count": 94,
     "metadata": {},
     "output_type": "execute_result"
    }
   ],
   "execution_count": 94
  },
  {
   "metadata": {
    "ExecuteTime": {
     "end_time": "2025-06-15T09:19:11.387473Z",
     "start_time": "2025-06-15T09:19:11.378Z"
    }
   },
   "cell_type": "code",
   "source": [
    "df[\"End Date\"]=df.index.map(lambda x: x.end_time)\n",
    "df"
   ],
   "id": "f0a5f40a64a4911b",
   "outputs": [
    {
     "data": {
      "text/plain": [
       "Line Item  Revenue  Expenses  Profit Start Date                      End Date\n",
       "2017Q1      115904     86544   29360 2016-02-01 2016-04-30 23:59:59.999999999\n",
       "2017Q2      120854     89485   31369 2016-05-01 2016-07-31 23:59:59.999999999\n",
       "2017Q3      118179     87484   30695 2016-08-01 2016-10-31 23:59:59.999999999\n",
       "2017Q4      130936     97743   33193 2016-11-01 2017-01-31 23:59:59.999999999\n",
       "2018Q1      117542     87688   29854 2017-02-01 2017-04-30 23:59:59.999999999"
      ],
      "text/html": [
       "<div>\n",
       "<style scoped>\n",
       "    .dataframe tbody tr th:only-of-type {\n",
       "        vertical-align: middle;\n",
       "    }\n",
       "\n",
       "    .dataframe tbody tr th {\n",
       "        vertical-align: top;\n",
       "    }\n",
       "\n",
       "    .dataframe thead th {\n",
       "        text-align: right;\n",
       "    }\n",
       "</style>\n",
       "<table border=\"1\" class=\"dataframe\">\n",
       "  <thead>\n",
       "    <tr style=\"text-align: right;\">\n",
       "      <th>Line Item</th>\n",
       "      <th>Revenue</th>\n",
       "      <th>Expenses</th>\n",
       "      <th>Profit</th>\n",
       "      <th>Start Date</th>\n",
       "      <th>End Date</th>\n",
       "    </tr>\n",
       "  </thead>\n",
       "  <tbody>\n",
       "    <tr>\n",
       "      <th>2017Q1</th>\n",
       "      <td>115904</td>\n",
       "      <td>86544</td>\n",
       "      <td>29360</td>\n",
       "      <td>2016-02-01</td>\n",
       "      <td>2016-04-30 23:59:59.999999999</td>\n",
       "    </tr>\n",
       "    <tr>\n",
       "      <th>2017Q2</th>\n",
       "      <td>120854</td>\n",
       "      <td>89485</td>\n",
       "      <td>31369</td>\n",
       "      <td>2016-05-01</td>\n",
       "      <td>2016-07-31 23:59:59.999999999</td>\n",
       "    </tr>\n",
       "    <tr>\n",
       "      <th>2017Q3</th>\n",
       "      <td>118179</td>\n",
       "      <td>87484</td>\n",
       "      <td>30695</td>\n",
       "      <td>2016-08-01</td>\n",
       "      <td>2016-10-31 23:59:59.999999999</td>\n",
       "    </tr>\n",
       "    <tr>\n",
       "      <th>2017Q4</th>\n",
       "      <td>130936</td>\n",
       "      <td>97743</td>\n",
       "      <td>33193</td>\n",
       "      <td>2016-11-01</td>\n",
       "      <td>2017-01-31 23:59:59.999999999</td>\n",
       "    </tr>\n",
       "    <tr>\n",
       "      <th>2018Q1</th>\n",
       "      <td>117542</td>\n",
       "      <td>87688</td>\n",
       "      <td>29854</td>\n",
       "      <td>2017-02-01</td>\n",
       "      <td>2017-04-30 23:59:59.999999999</td>\n",
       "    </tr>\n",
       "  </tbody>\n",
       "</table>\n",
       "</div>"
      ]
     },
     "execution_count": 95,
     "metadata": {},
     "output_type": "execute_result"
    }
   ],
   "execution_count": 95
  },
  {
   "metadata": {},
   "cell_type": "code",
   "outputs": [],
   "execution_count": null,
   "source": "",
   "id": "99251ca2387e0e80"
  }
 ],
 "metadata": {
  "kernelspec": {
   "display_name": "Python 3",
   "language": "python",
   "name": "python3"
  },
  "language_info": {
   "codemirror_mode": {
    "name": "ipython",
    "version": 2
   },
   "file_extension": ".py",
   "mimetype": "text/x-python",
   "name": "python",
   "nbconvert_exporter": "python",
   "pygments_lexer": "ipython2",
   "version": "2.7.6"
  }
 },
 "nbformat": 4,
 "nbformat_minor": 5
}
