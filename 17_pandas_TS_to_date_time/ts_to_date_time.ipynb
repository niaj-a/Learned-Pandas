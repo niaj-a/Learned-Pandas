{
 "cells": [
  {
   "cell_type": "code",
   "id": "initial_id",
   "metadata": {
    "collapsed": true,
    "ExecuteTime": {
     "end_time": "2025-06-05T17:01:24.055361Z",
     "start_time": "2025-06-05T17:01:24.028143Z"
    }
   },
   "source": [
    "import pandas as pd\n",
    "dates = ['2017-01-05', 'Jan 5, 2017', '01/05/2017', '2017.01.05', '2017/01/05','20170105']\n",
    "pd.to_datetime(dates, format='mixed')"
   ],
   "outputs": [
    {
     "data": {
      "text/plain": [
       "DatetimeIndex(['2017-01-05', '2017-01-05', '2017-01-05', '2017-01-05',\n",
       "               '2017-01-05', '2017-01-05'],\n",
       "              dtype='datetime64[ns]', freq=None)"
      ]
     },
     "execution_count": 4,
     "metadata": {},
     "output_type": "execute_result"
    }
   ],
   "execution_count": 4
  },
  {
   "metadata": {
    "ExecuteTime": {
     "end_time": "2025-06-05T17:02:09.415466Z",
     "start_time": "2025-06-05T17:02:09.403420Z"
    }
   },
   "cell_type": "code",
   "source": [
    "dt = ['2017-01-05 2:30:00 PM', 'Jan 5, 2017 14:30:00', '01/05/2016', '2017.01.05', '2017/01/05','20170105']\n",
    "pd.to_datetime(dt, format='mixed')"
   ],
   "id": "2ce05d2bce56fe00",
   "outputs": [
    {
     "data": {
      "text/plain": [
       "DatetimeIndex(['2017-01-05 14:30:00', '2017-01-05 14:30:00',\n",
       "               '2016-01-05 00:00:00', '2017-01-05 00:00:00',\n",
       "               '2017-01-05 00:00:00', '2017-01-05 00:00:00'],\n",
       "              dtype='datetime64[ns]', freq=None)"
      ]
     },
     "execution_count": 6,
     "metadata": {},
     "output_type": "execute_result"
    }
   ],
   "execution_count": 6
  },
  {
   "metadata": {},
   "cell_type": "markdown",
   "source": "European style dates with day first",
   "id": "7b2031a2ca2afd71"
  },
  {
   "metadata": {
    "ExecuteTime": {
     "end_time": "2025-06-05T17:03:33.171893Z",
     "start_time": "2025-06-05T17:03:33.159500Z"
    }
   },
   "cell_type": "code",
   "source": "pd.to_datetime('30-12-2016')",
   "id": "c0f06bd27e6fd5e7",
   "outputs": [
    {
     "name": "stderr",
     "output_type": "stream",
     "text": [
      "C:\\Users\\my5ee\\AppData\\Local\\Temp\\ipykernel_12172\\3581319831.py:1: UserWarning: Parsing dates in %d-%m-%Y format when dayfirst=False (the default) was specified. Pass `dayfirst=True` or specify a format to silence this warning.\n",
      "  pd.to_datetime('30-12-2016')\n"
     ]
    },
    {
     "data": {
      "text/plain": [
       "Timestamp('2016-12-30 00:00:00')"
      ]
     },
     "execution_count": 7,
     "metadata": {},
     "output_type": "execute_result"
    }
   ],
   "execution_count": 7
  },
  {
   "metadata": {
    "ExecuteTime": {
     "end_time": "2025-06-05T17:04:07.813681Z",
     "start_time": "2025-06-05T17:04:07.803517Z"
    }
   },
   "cell_type": "code",
   "source": "pd.to_datetime('30-12-2016', dayfirst=True)",
   "id": "7d2f69b226b49f56",
   "outputs": [
    {
     "data": {
      "text/plain": [
       "Timestamp('2016-12-30 00:00:00')"
      ]
     },
     "execution_count": 8,
     "metadata": {},
     "output_type": "execute_result"
    }
   ],
   "execution_count": 8
  },
  {
   "metadata": {},
   "cell_type": "markdown",
   "source": "Custom date time format",
   "id": "e29bfb8dde8f7f5c"
  },
  {
   "metadata": {
    "ExecuteTime": {
     "end_time": "2025-06-05T17:06:58.176851Z",
     "start_time": "2025-06-05T17:06:58.161447Z"
    }
   },
   "cell_type": "code",
   "source": "pd.to_datetime('2017$01$05', format='%Y$%m$%d')",
   "id": "be50b4f887185e67",
   "outputs": [
    {
     "data": {
      "text/plain": [
       "Timestamp('2017-01-05 00:00:00')"
      ]
     },
     "execution_count": 13,
     "metadata": {},
     "output_type": "execute_result"
    }
   ],
   "execution_count": 13
  },
  {
   "metadata": {},
   "cell_type": "markdown",
   "source": [
    "\n",
    "Handling invalid dates"
   ],
   "id": "92667f08de039245"
  },
  {
   "metadata": {
    "ExecuteTime": {
     "end_time": "2025-06-05T17:08:13.557167Z",
     "start_time": "2025-06-05T17:08:13.538181Z"
    }
   },
   "cell_type": "code",
   "source": "pd.to_datetime(['2017-01-05', 'Jan 6, 2017', 'abc'], errors='ignore')",
   "id": "f5682f87a5bb966a",
   "outputs": [
    {
     "name": "stderr",
     "output_type": "stream",
     "text": [
      "C:\\Users\\my5ee\\AppData\\Local\\Temp\\ipykernel_12172\\1067407778.py:1: FutureWarning: errors='ignore' is deprecated and will raise in a future version. Use to_datetime without passing `errors` and catch exceptions explicitly instead\n",
      "  pd.to_datetime(['2017-01-05', 'Jan 6, 2017', 'abc'], errors='ignore')\n"
     ]
    },
    {
     "data": {
      "text/plain": [
       "Index(['2017-01-05', 'Jan 6, 2017', 'abc'], dtype='object')"
      ]
     },
     "execution_count": 15,
     "metadata": {},
     "output_type": "execute_result"
    }
   ],
   "execution_count": 15
  },
  {
   "metadata": {
    "ExecuteTime": {
     "end_time": "2025-06-05T17:08:51.818492Z",
     "start_time": "2025-06-05T17:08:51.809821Z"
    }
   },
   "cell_type": "code",
   "source": "pd.to_datetime(['2017-01-05', 'Jan 6, 2017', 'abc'], errors='coerce')",
   "id": "9ddf44db71fa488a",
   "outputs": [
    {
     "data": {
      "text/plain": [
       "DatetimeIndex(['2017-01-05', 'NaT', 'NaT'], dtype='datetime64[ns]', freq=None)"
      ]
     },
     "execution_count": 16,
     "metadata": {},
     "output_type": "execute_result"
    }
   ],
   "execution_count": 16
  },
  {
   "metadata": {},
   "cell_type": "markdown",
   "source": "Epoch: Epoch or Unix time means number of seconds that have passed since Jan 1, 1970 00:00:00 UTC time",
   "id": "cff3626cb0c3e8b2"
  },
  {
   "metadata": {
    "ExecuteTime": {
     "end_time": "2025-06-05T17:11:45.444602Z",
     "start_time": "2025-06-05T17:11:45.431886Z"
    }
   },
   "cell_type": "code",
   "source": [
    "current_epoch = 1503124478\n",
    "pd.to_datetime(current_epoch, unit='s')"
   ],
   "id": "d91a88a230acefa5",
   "outputs": [
    {
     "data": {
      "text/plain": [
       "Timestamp('2017-08-19 06:34:38')"
      ]
     },
     "execution_count": 18,
     "metadata": {},
     "output_type": "execute_result"
    }
   ],
   "execution_count": 18
  },
  {
   "metadata": {
    "ExecuteTime": {
     "end_time": "2025-06-05T17:12:38.749178Z",
     "start_time": "2025-06-05T17:12:38.738018Z"
    }
   },
   "cell_type": "code",
   "source": "pd.to_datetime(current_epoch*1000, unit='ms')",
   "id": "8920bf438c27ab42",
   "outputs": [
    {
     "data": {
      "text/plain": [
       "Timestamp('2017-08-19 06:34:38')"
      ]
     },
     "execution_count": 19,
     "metadata": {},
     "output_type": "execute_result"
    }
   ],
   "execution_count": 19
  },
  {
   "metadata": {
    "ExecuteTime": {
     "end_time": "2025-06-05T17:15:17.713945Z",
     "start_time": "2025-06-05T17:15:17.697497Z"
    }
   },
   "cell_type": "code",
   "source": [
    "t = pd.to_datetime([current_epoch], unit='s')\n",
    "t"
   ],
   "id": "5204373220f18e79",
   "outputs": [
    {
     "data": {
      "text/plain": [
       "DatetimeIndex(['2017-08-19 06:34:38'], dtype='datetime64[ns]', freq=None)"
      ]
     },
     "execution_count": 20,
     "metadata": {},
     "output_type": "execute_result"
    }
   ],
   "execution_count": 20
  },
  {
   "metadata": {
    "ExecuteTime": {
     "end_time": "2025-06-05T17:15:41.750384Z",
     "start_time": "2025-06-05T17:15:41.737354Z"
    }
   },
   "cell_type": "code",
   "source": "t.view('int64')",
   "id": "478d235793bb3d45",
   "outputs": [
    {
     "data": {
      "text/plain": [
       "array([1503124478000000000])"
      ]
     },
     "execution_count": 21,
     "metadata": {},
     "output_type": "execute_result"
    }
   ],
   "execution_count": 21
  },
  {
   "metadata": {},
   "cell_type": "code",
   "outputs": [],
   "execution_count": null,
   "source": "",
   "id": "bff2838b4470297e"
  }
 ],
 "metadata": {
  "kernelspec": {
   "display_name": "Python 3",
   "language": "python",
   "name": "python3"
  },
  "language_info": {
   "codemirror_mode": {
    "name": "ipython",
    "version": 2
   },
   "file_extension": ".py",
   "mimetype": "text/x-python",
   "name": "python",
   "nbconvert_exporter": "python",
   "pygments_lexer": "ipython2",
   "version": "2.7.6"
  }
 },
 "nbformat": 4,
 "nbformat_minor": 5
}
