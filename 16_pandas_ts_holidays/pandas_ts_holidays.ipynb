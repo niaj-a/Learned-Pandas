{
 "cells": [
  {
   "metadata": {},
   "cell_type": "markdown",
   "source": "Pandas Time Series Analysis Tutorial: Handling Holidays",
   "id": "aebe8753d396e71a"
  },
  {
   "metadata": {
    "ExecuteTime": {
     "end_time": "2025-06-05T16:43:27.650675Z",
     "start_time": "2025-06-05T16:43:26.533079Z"
    }
   },
   "cell_type": "code",
   "source": [
    "import pandas as pd\n",
    "df = pd.read_csv(\"aapl_no_dates.csv\")\n",
    "df.head()"
   ],
   "id": "acb5cd62041d1782",
   "outputs": [
    {
     "data": {
      "text/plain": [
       "     Open    High     Low   Close    Volume\n",
       "0  153.17  153.33  152.22  153.18  16404088\n",
       "1  153.58  155.45  152.89  155.45  27770715\n",
       "2  154.34  154.45  153.46  153.93  25331662\n",
       "3  153.90  155.81  153.78  154.45  26624926\n",
       "4  155.02  155.98  154.48  155.37  21069647"
      ],
      "text/html": [
       "<div>\n",
       "<style scoped>\n",
       "    .dataframe tbody tr th:only-of-type {\n",
       "        vertical-align: middle;\n",
       "    }\n",
       "\n",
       "    .dataframe tbody tr th {\n",
       "        vertical-align: top;\n",
       "    }\n",
       "\n",
       "    .dataframe thead th {\n",
       "        text-align: right;\n",
       "    }\n",
       "</style>\n",
       "<table border=\"1\" class=\"dataframe\">\n",
       "  <thead>\n",
       "    <tr style=\"text-align: right;\">\n",
       "      <th></th>\n",
       "      <th>Open</th>\n",
       "      <th>High</th>\n",
       "      <th>Low</th>\n",
       "      <th>Close</th>\n",
       "      <th>Volume</th>\n",
       "    </tr>\n",
       "  </thead>\n",
       "  <tbody>\n",
       "    <tr>\n",
       "      <th>0</th>\n",
       "      <td>153.17</td>\n",
       "      <td>153.33</td>\n",
       "      <td>152.22</td>\n",
       "      <td>153.18</td>\n",
       "      <td>16404088</td>\n",
       "    </tr>\n",
       "    <tr>\n",
       "      <th>1</th>\n",
       "      <td>153.58</td>\n",
       "      <td>155.45</td>\n",
       "      <td>152.89</td>\n",
       "      <td>155.45</td>\n",
       "      <td>27770715</td>\n",
       "    </tr>\n",
       "    <tr>\n",
       "      <th>2</th>\n",
       "      <td>154.34</td>\n",
       "      <td>154.45</td>\n",
       "      <td>153.46</td>\n",
       "      <td>153.93</td>\n",
       "      <td>25331662</td>\n",
       "    </tr>\n",
       "    <tr>\n",
       "      <th>3</th>\n",
       "      <td>153.90</td>\n",
       "      <td>155.81</td>\n",
       "      <td>153.78</td>\n",
       "      <td>154.45</td>\n",
       "      <td>26624926</td>\n",
       "    </tr>\n",
       "    <tr>\n",
       "      <th>4</th>\n",
       "      <td>155.02</td>\n",
       "      <td>155.98</td>\n",
       "      <td>154.48</td>\n",
       "      <td>155.37</td>\n",
       "      <td>21069647</td>\n",
       "    </tr>\n",
       "  </tbody>\n",
       "</table>\n",
       "</div>"
      ]
     },
     "execution_count": 1,
     "metadata": {},
     "output_type": "execute_result"
    }
   ],
   "execution_count": 1
  },
  {
   "metadata": {
    "ExecuteTime": {
     "end_time": "2025-06-05T16:43:28.067761Z",
     "start_time": "2025-06-05T16:43:28.055488Z"
    }
   },
   "cell_type": "code",
   "source": [
    "rng = pd.date_range(start='7/1/2017', end='7/21/2017', freq='B')\n",
    "rng"
   ],
   "id": "4be43d399b43bb2c",
   "outputs": [
    {
     "data": {
      "text/plain": [
       "DatetimeIndex(['2017-07-03', '2017-07-04', '2017-07-05', '2017-07-06',\n",
       "               '2017-07-07', '2017-07-10', '2017-07-11', '2017-07-12',\n",
       "               '2017-07-13', '2017-07-14', '2017-07-17', '2017-07-18',\n",
       "               '2017-07-19', '2017-07-20', '2017-07-21'],\n",
       "              dtype='datetime64[ns]', freq='B')"
      ]
     },
     "execution_count": 2,
     "metadata": {},
     "output_type": "execute_result"
    }
   ],
   "execution_count": 2
  },
  {
   "metadata": {},
   "cell_type": "markdown",
   "source": "Using CustomBusinessDay to generate US holidays calendar frequency",
   "id": "dffd0b08691b68e3"
  },
  {
   "metadata": {
    "ExecuteTime": {
     "end_time": "2025-06-05T16:43:28.303149Z",
     "start_time": "2025-06-05T16:43:28.154266Z"
    }
   },
   "cell_type": "code",
   "source": [
    "from pandas.tseries.holiday import USFederalHolidayCalendar\n",
    "from pandas.tseries.offsets import CustomBusinessDay\n",
    "\n",
    "us_cal = CustomBusinessDay(calendar=USFederalHolidayCalendar())\n",
    "\n",
    "rng = pd.date_range(start=\"7/1/2017\",end=\"7/23/2017\", freq=us_cal)\n",
    "rng"
   ],
   "id": "66a7e652644ed8b8",
   "outputs": [
    {
     "data": {
      "text/plain": [
       "DatetimeIndex(['2017-07-03', '2017-07-05', '2017-07-06', '2017-07-07',\n",
       "               '2017-07-10', '2017-07-11', '2017-07-12', '2017-07-13',\n",
       "               '2017-07-14', '2017-07-17', '2017-07-18', '2017-07-19',\n",
       "               '2017-07-20', '2017-07-21'],\n",
       "              dtype='datetime64[ns]', freq='C')"
      ]
     },
     "execution_count": 3,
     "metadata": {},
     "output_type": "execute_result"
    }
   ],
   "execution_count": 3
  },
  {
   "metadata": {},
   "cell_type": "markdown",
   "source": "CustomBusinessDay",
   "id": "28f3916796394d25"
  },
  {
   "metadata": {
    "ExecuteTime": {
     "end_time": "2025-06-05T16:49:36.668376Z",
     "start_time": "2025-06-05T16:49:36.653035Z"
    }
   },
   "cell_type": "code",
   "source": [
    "egypt_weekdays = \"Sun Mon Tue Wed Thu\"\n",
    "b = CustomBusinessDay(weekmask=egypt_weekdays)\n",
    "\n",
    "pd.date_range(start=\"7/1/2017\", periods=20, freq=b)"
   ],
   "id": "f9a87c56fbf4b163",
   "outputs": [
    {
     "data": {
      "text/plain": [
       "DatetimeIndex(['2017-07-02', '2017-07-03', '2017-07-04', '2017-07-05',\n",
       "               '2017-07-06', '2017-07-09', '2017-07-10', '2017-07-11',\n",
       "               '2017-07-12', '2017-07-13', '2017-07-16', '2017-07-17',\n",
       "               '2017-07-18', '2017-07-19', '2017-07-20', '2017-07-23',\n",
       "               '2017-07-24', '2017-07-25', '2017-07-26', '2017-07-27'],\n",
       "              dtype='datetime64[ns]', freq='C')"
      ]
     },
     "execution_count": 6,
     "metadata": {},
     "output_type": "execute_result"
    }
   ],
   "execution_count": 6
  },
  {
   "metadata": {
    "ExecuteTime": {
     "end_time": "2025-06-05T16:53:51.392884Z",
     "start_time": "2025-06-05T16:53:51.383483Z"
    }
   },
   "cell_type": "code",
   "source": [
    "b = CustomBusinessDay(holidays=['2017-07-04', '2017-07-10'], weekmask=egypt_weekdays)\n",
    "\n",
    "pd.date_range(start=\"7/1/2017\",periods=20,freq=b)"
   ],
   "id": "3dccace67eb3dcdf",
   "outputs": [
    {
     "data": {
      "text/plain": [
       "DatetimeIndex(['2017-07-02', '2017-07-03', '2017-07-05', '2017-07-06',\n",
       "               '2017-07-09', '2017-07-11', '2017-07-12', '2017-07-13',\n",
       "               '2017-07-16', '2017-07-17', '2017-07-18', '2017-07-19',\n",
       "               '2017-07-20', '2017-07-23', '2017-07-24', '2017-07-25',\n",
       "               '2017-07-26', '2017-07-27', '2017-07-30', '2017-07-31'],\n",
       "              dtype='datetime64[ns]', freq='C')"
      ]
     },
     "execution_count": 8,
     "metadata": {},
     "output_type": "execute_result"
    }
   ],
   "execution_count": 8
  },
  {
   "metadata": {},
   "cell_type": "markdown",
   "source": "Mathematical operations on date object using custom business day",
   "id": "6d97f15aaa345343"
  },
  {
   "metadata": {
    "ExecuteTime": {
     "end_time": "2025-06-05T16:55:39.303151Z",
     "start_time": "2025-06-05T16:55:39.295499Z"
    }
   },
   "cell_type": "code",
   "source": [
    "from datetime import datetime\n",
    "dt = datetime(2017,7,9)\n",
    "dt"
   ],
   "id": "e3e29d8412adc54f",
   "outputs": [
    {
     "data": {
      "text/plain": [
       "datetime.datetime(2017, 7, 9, 0, 0)"
      ]
     },
     "execution_count": 11,
     "metadata": {},
     "output_type": "execute_result"
    }
   ],
   "execution_count": 11
  },
  {
   "metadata": {
    "ExecuteTime": {
     "end_time": "2025-06-05T16:55:52.468275Z",
     "start_time": "2025-06-05T16:55:52.454317Z"
    }
   },
   "cell_type": "code",
   "source": "dt + 1*b",
   "id": "837fde76201e0f19",
   "outputs": [
    {
     "data": {
      "text/plain": [
       "Timestamp('2017-07-11 00:00:00')"
      ]
     },
     "execution_count": 12,
     "metadata": {},
     "output_type": "execute_result"
    }
   ],
   "execution_count": 12
  },
  {
   "metadata": {},
   "cell_type": "code",
   "outputs": [],
   "execution_count": null,
   "source": "",
   "id": "5f3d5c82760e038c"
  }
 ],
 "metadata": {
  "kernelspec": {
   "display_name": "Python 3",
   "language": "python",
   "name": "python3"
  },
  "language_info": {
   "codemirror_mode": {
    "name": "ipython",
    "version": 2
   },
   "file_extension": ".py",
   "mimetype": "text/x-python",
   "name": "python",
   "nbconvert_exporter": "python",
   "pygments_lexer": "ipython2",
   "version": "2.7.6"
  }
 },
 "nbformat": 4,
 "nbformat_minor": 5
}
