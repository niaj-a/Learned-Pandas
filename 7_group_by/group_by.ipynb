{
 "cells": [
  {
   "metadata": {},
   "cell_type": "markdown",
   "source": [
    "Pandas Group By\n",
    "In this tutorial we are going to look at weather data from various cities and see how group by can be used to run some analytics."
   ],
   "id": "67f67a58d2ff71c0"
  },
  {
   "cell_type": "code",
   "id": "initial_id",
   "metadata": {
    "collapsed": true,
    "ExecuteTime": {
     "end_time": "2025-06-04T20:04:46.303617Z",
     "start_time": "2025-06-04T20:04:46.246281Z"
    }
   },
   "source": [
    "import pandas as pd\n",
    "df = pd.read_csv(\"weather_by_cities.csv\")\n",
    "df"
   ],
   "outputs": [
    {
     "data": {
      "text/plain": [
       "         day      city  temperature  windspeed   event\n",
       "0   1/1/2017  new york           32          6    Rain\n",
       "1   1/2/2017  new york           36          7   Sunny\n",
       "2   1/3/2017  new york           28         12    Snow\n",
       "3   1/4/2017  new york           33          7   Sunny\n",
       "4   1/1/2017    mumbai           90          5   Sunny\n",
       "5   1/2/2017    mumbai           85         12     Fog\n",
       "6   1/3/2017    mumbai           87         15     Fog\n",
       "7   1/4/2017    mumbai           92          5    Rain\n",
       "8   1/1/2017     paris           45         20   Sunny\n",
       "9   1/2/2017     paris           50         13  Cloudy\n",
       "10  1/3/2017     paris           54          8  Cloudy\n",
       "11  1/4/2017     paris           42         10  Cloudy"
      ],
      "text/html": [
       "<div>\n",
       "<style scoped>\n",
       "    .dataframe tbody tr th:only-of-type {\n",
       "        vertical-align: middle;\n",
       "    }\n",
       "\n",
       "    .dataframe tbody tr th {\n",
       "        vertical-align: top;\n",
       "    }\n",
       "\n",
       "    .dataframe thead th {\n",
       "        text-align: right;\n",
       "    }\n",
       "</style>\n",
       "<table border=\"1\" class=\"dataframe\">\n",
       "  <thead>\n",
       "    <tr style=\"text-align: right;\">\n",
       "      <th></th>\n",
       "      <th>day</th>\n",
       "      <th>city</th>\n",
       "      <th>temperature</th>\n",
       "      <th>windspeed</th>\n",
       "      <th>event</th>\n",
       "    </tr>\n",
       "  </thead>\n",
       "  <tbody>\n",
       "    <tr>\n",
       "      <th>0</th>\n",
       "      <td>1/1/2017</td>\n",
       "      <td>new york</td>\n",
       "      <td>32</td>\n",
       "      <td>6</td>\n",
       "      <td>Rain</td>\n",
       "    </tr>\n",
       "    <tr>\n",
       "      <th>1</th>\n",
       "      <td>1/2/2017</td>\n",
       "      <td>new york</td>\n",
       "      <td>36</td>\n",
       "      <td>7</td>\n",
       "      <td>Sunny</td>\n",
       "    </tr>\n",
       "    <tr>\n",
       "      <th>2</th>\n",
       "      <td>1/3/2017</td>\n",
       "      <td>new york</td>\n",
       "      <td>28</td>\n",
       "      <td>12</td>\n",
       "      <td>Snow</td>\n",
       "    </tr>\n",
       "    <tr>\n",
       "      <th>3</th>\n",
       "      <td>1/4/2017</td>\n",
       "      <td>new york</td>\n",
       "      <td>33</td>\n",
       "      <td>7</td>\n",
       "      <td>Sunny</td>\n",
       "    </tr>\n",
       "    <tr>\n",
       "      <th>4</th>\n",
       "      <td>1/1/2017</td>\n",
       "      <td>mumbai</td>\n",
       "      <td>90</td>\n",
       "      <td>5</td>\n",
       "      <td>Sunny</td>\n",
       "    </tr>\n",
       "    <tr>\n",
       "      <th>5</th>\n",
       "      <td>1/2/2017</td>\n",
       "      <td>mumbai</td>\n",
       "      <td>85</td>\n",
       "      <td>12</td>\n",
       "      <td>Fog</td>\n",
       "    </tr>\n",
       "    <tr>\n",
       "      <th>6</th>\n",
       "      <td>1/3/2017</td>\n",
       "      <td>mumbai</td>\n",
       "      <td>87</td>\n",
       "      <td>15</td>\n",
       "      <td>Fog</td>\n",
       "    </tr>\n",
       "    <tr>\n",
       "      <th>7</th>\n",
       "      <td>1/4/2017</td>\n",
       "      <td>mumbai</td>\n",
       "      <td>92</td>\n",
       "      <td>5</td>\n",
       "      <td>Rain</td>\n",
       "    </tr>\n",
       "    <tr>\n",
       "      <th>8</th>\n",
       "      <td>1/1/2017</td>\n",
       "      <td>paris</td>\n",
       "      <td>45</td>\n",
       "      <td>20</td>\n",
       "      <td>Sunny</td>\n",
       "    </tr>\n",
       "    <tr>\n",
       "      <th>9</th>\n",
       "      <td>1/2/2017</td>\n",
       "      <td>paris</td>\n",
       "      <td>50</td>\n",
       "      <td>13</td>\n",
       "      <td>Cloudy</td>\n",
       "    </tr>\n",
       "    <tr>\n",
       "      <th>10</th>\n",
       "      <td>1/3/2017</td>\n",
       "      <td>paris</td>\n",
       "      <td>54</td>\n",
       "      <td>8</td>\n",
       "      <td>Cloudy</td>\n",
       "    </tr>\n",
       "    <tr>\n",
       "      <th>11</th>\n",
       "      <td>1/4/2017</td>\n",
       "      <td>paris</td>\n",
       "      <td>42</td>\n",
       "      <td>10</td>\n",
       "      <td>Cloudy</td>\n",
       "    </tr>\n",
       "  </tbody>\n",
       "</table>\n",
       "</div>"
      ]
     },
     "execution_count": 3,
     "metadata": {},
     "output_type": "execute_result"
    }
   ],
   "execution_count": 3
  },
  {
   "metadata": {},
   "cell_type": "markdown",
   "source": [
    "For this dataset, get following answers,\n",
    "1. What was the maximum temperature in each of these 3 cities?\n",
    "2. What was the average windspeed in each of these 3 cities?"
   ],
   "id": "ab0d1880af6b034b"
  },
  {
   "metadata": {
    "ExecuteTime": {
     "end_time": "2025-06-04T20:06:16.207309Z",
     "start_time": "2025-06-04T20:06:16.192505Z"
    }
   },
   "cell_type": "code",
   "source": [
    "g = df.groupby(\"city\")\n",
    "g"
   ],
   "id": "5e686cefb57488ef",
   "outputs": [
    {
     "data": {
      "text/plain": [
       "<pandas.core.groupby.generic.DataFrameGroupBy object at 0x000002870B11FE00>"
      ]
     },
     "execution_count": 4,
     "metadata": {},
     "output_type": "execute_result"
    }
   ],
   "execution_count": 4
  },
  {
   "metadata": {
    "ExecuteTime": {
     "end_time": "2025-06-04T20:07:37.076577Z",
     "start_time": "2025-06-04T20:07:37.046235Z"
    }
   },
   "cell_type": "code",
   "source": [
    "for city, data in g:\n",
    "    print(\"city:\", city)\n",
    "    print(\"/n\")\n",
    "    print(\"data:\", data)"
   ],
   "id": "eff5222051909571",
   "outputs": [
    {
     "name": "stdout",
     "output_type": "stream",
     "text": [
      "city: mumbai\n",
      "/n\n",
      "data:         day    city  temperature  windspeed  event\n",
      "4  1/1/2017  mumbai           90          5  Sunny\n",
      "5  1/2/2017  mumbai           85         12    Fog\n",
      "6  1/3/2017  mumbai           87         15    Fog\n",
      "7  1/4/2017  mumbai           92          5   Rain\n",
      "city: new york\n",
      "/n\n",
      "data:         day      city  temperature  windspeed  event\n",
      "0  1/1/2017  new york           32          6   Rain\n",
      "1  1/2/2017  new york           36          7  Sunny\n",
      "2  1/3/2017  new york           28         12   Snow\n",
      "3  1/4/2017  new york           33          7  Sunny\n",
      "city: paris\n",
      "/n\n",
      "data:          day   city  temperature  windspeed   event\n",
      "8   1/1/2017  paris           45         20   Sunny\n",
      "9   1/2/2017  paris           50         13  Cloudy\n",
      "10  1/3/2017  paris           54          8  Cloudy\n",
      "11  1/4/2017  paris           42         10  Cloudy\n"
     ]
    }
   ],
   "execution_count": 5
  },
  {
   "metadata": {},
   "cell_type": "markdown",
   "source": [
    "This is similar to SQL,\n",
    "\n",
    "SELECT * from weather_data GROUP BY city"
   ],
   "id": "1c32c14552af5781"
  },
  {
   "metadata": {
    "ExecuteTime": {
     "end_time": "2025-06-04T20:08:29.099914Z",
     "start_time": "2025-06-04T20:08:29.049956Z"
    }
   },
   "cell_type": "code",
   "source": "g.get_group('mumbai')",
   "id": "201965cd4da499f2",
   "outputs": [
    {
     "data": {
      "text/plain": [
       "        day    city  temperature  windspeed  event\n",
       "4  1/1/2017  mumbai           90          5  Sunny\n",
       "5  1/2/2017  mumbai           85         12    Fog\n",
       "6  1/3/2017  mumbai           87         15    Fog\n",
       "7  1/4/2017  mumbai           92          5   Rain"
      ],
      "text/html": [
       "<div>\n",
       "<style scoped>\n",
       "    .dataframe tbody tr th:only-of-type {\n",
       "        vertical-align: middle;\n",
       "    }\n",
       "\n",
       "    .dataframe tbody tr th {\n",
       "        vertical-align: top;\n",
       "    }\n",
       "\n",
       "    .dataframe thead th {\n",
       "        text-align: right;\n",
       "    }\n",
       "</style>\n",
       "<table border=\"1\" class=\"dataframe\">\n",
       "  <thead>\n",
       "    <tr style=\"text-align: right;\">\n",
       "      <th></th>\n",
       "      <th>day</th>\n",
       "      <th>city</th>\n",
       "      <th>temperature</th>\n",
       "      <th>windspeed</th>\n",
       "      <th>event</th>\n",
       "    </tr>\n",
       "  </thead>\n",
       "  <tbody>\n",
       "    <tr>\n",
       "      <th>4</th>\n",
       "      <td>1/1/2017</td>\n",
       "      <td>mumbai</td>\n",
       "      <td>90</td>\n",
       "      <td>5</td>\n",
       "      <td>Sunny</td>\n",
       "    </tr>\n",
       "    <tr>\n",
       "      <th>5</th>\n",
       "      <td>1/2/2017</td>\n",
       "      <td>mumbai</td>\n",
       "      <td>85</td>\n",
       "      <td>12</td>\n",
       "      <td>Fog</td>\n",
       "    </tr>\n",
       "    <tr>\n",
       "      <th>6</th>\n",
       "      <td>1/3/2017</td>\n",
       "      <td>mumbai</td>\n",
       "      <td>87</td>\n",
       "      <td>15</td>\n",
       "      <td>Fog</td>\n",
       "    </tr>\n",
       "    <tr>\n",
       "      <th>7</th>\n",
       "      <td>1/4/2017</td>\n",
       "      <td>mumbai</td>\n",
       "      <td>92</td>\n",
       "      <td>5</td>\n",
       "      <td>Rain</td>\n",
       "    </tr>\n",
       "  </tbody>\n",
       "</table>\n",
       "</div>"
      ]
     },
     "execution_count": 6,
     "metadata": {},
     "output_type": "execute_result"
    }
   ],
   "execution_count": 6
  },
  {
   "metadata": {
    "ExecuteTime": {
     "end_time": "2025-06-04T20:09:43.563539Z",
     "start_time": "2025-06-04T20:09:43.552438Z"
    }
   },
   "cell_type": "code",
   "source": "g.max()",
   "id": "542a07a80c4b38a",
   "outputs": [
    {
     "data": {
      "text/plain": [
       "               day  temperature  windspeed  event\n",
       "city                                             \n",
       "mumbai    1/4/2017           92         15  Sunny\n",
       "new york  1/4/2017           36         12  Sunny\n",
       "paris     1/4/2017           54         20  Sunny"
      ],
      "text/html": [
       "<div>\n",
       "<style scoped>\n",
       "    .dataframe tbody tr th:only-of-type {\n",
       "        vertical-align: middle;\n",
       "    }\n",
       "\n",
       "    .dataframe tbody tr th {\n",
       "        vertical-align: top;\n",
       "    }\n",
       "\n",
       "    .dataframe thead th {\n",
       "        text-align: right;\n",
       "    }\n",
       "</style>\n",
       "<table border=\"1\" class=\"dataframe\">\n",
       "  <thead>\n",
       "    <tr style=\"text-align: right;\">\n",
       "      <th></th>\n",
       "      <th>day</th>\n",
       "      <th>temperature</th>\n",
       "      <th>windspeed</th>\n",
       "      <th>event</th>\n",
       "    </tr>\n",
       "    <tr>\n",
       "      <th>city</th>\n",
       "      <th></th>\n",
       "      <th></th>\n",
       "      <th></th>\n",
       "      <th></th>\n",
       "    </tr>\n",
       "  </thead>\n",
       "  <tbody>\n",
       "    <tr>\n",
       "      <th>mumbai</th>\n",
       "      <td>1/4/2017</td>\n",
       "      <td>92</td>\n",
       "      <td>15</td>\n",
       "      <td>Sunny</td>\n",
       "    </tr>\n",
       "    <tr>\n",
       "      <th>new york</th>\n",
       "      <td>1/4/2017</td>\n",
       "      <td>36</td>\n",
       "      <td>12</td>\n",
       "      <td>Sunny</td>\n",
       "    </tr>\n",
       "    <tr>\n",
       "      <th>paris</th>\n",
       "      <td>1/4/2017</td>\n",
       "      <td>54</td>\n",
       "      <td>20</td>\n",
       "      <td>Sunny</td>\n",
       "    </tr>\n",
       "  </tbody>\n",
       "</table>\n",
       "</div>"
      ]
     },
     "execution_count": 10,
     "metadata": {},
     "output_type": "execute_result"
    }
   ],
   "execution_count": 10
  },
  {
   "metadata": {
    "ExecuteTime": {
     "end_time": "2025-06-04T20:11:10.232956Z",
     "start_time": "2025-06-04T20:11:10.214011Z"
    }
   },
   "cell_type": "code",
   "source": "g.mean(numeric_only=True)",
   "id": "c1c84d1db84aa653",
   "outputs": [
    {
     "data": {
      "text/plain": [
       "          temperature  windspeed\n",
       "city                            \n",
       "mumbai          88.50       9.25\n",
       "new york        32.25       8.00\n",
       "paris           47.75      12.75"
      ],
      "text/html": [
       "<div>\n",
       "<style scoped>\n",
       "    .dataframe tbody tr th:only-of-type {\n",
       "        vertical-align: middle;\n",
       "    }\n",
       "\n",
       "    .dataframe tbody tr th {\n",
       "        vertical-align: top;\n",
       "    }\n",
       "\n",
       "    .dataframe thead th {\n",
       "        text-align: right;\n",
       "    }\n",
       "</style>\n",
       "<table border=\"1\" class=\"dataframe\">\n",
       "  <thead>\n",
       "    <tr style=\"text-align: right;\">\n",
       "      <th></th>\n",
       "      <th>temperature</th>\n",
       "      <th>windspeed</th>\n",
       "    </tr>\n",
       "    <tr>\n",
       "      <th>city</th>\n",
       "      <th></th>\n",
       "      <th></th>\n",
       "    </tr>\n",
       "  </thead>\n",
       "  <tbody>\n",
       "    <tr>\n",
       "      <th>mumbai</th>\n",
       "      <td>88.50</td>\n",
       "      <td>9.25</td>\n",
       "    </tr>\n",
       "    <tr>\n",
       "      <th>new york</th>\n",
       "      <td>32.25</td>\n",
       "      <td>8.00</td>\n",
       "    </tr>\n",
       "    <tr>\n",
       "      <th>paris</th>\n",
       "      <td>47.75</td>\n",
       "      <td>12.75</td>\n",
       "    </tr>\n",
       "  </tbody>\n",
       "</table>\n",
       "</div>"
      ]
     },
     "execution_count": 12,
     "metadata": {},
     "output_type": "execute_result"
    }
   ],
   "execution_count": 12
  },
  {
   "metadata": {
    "ExecuteTime": {
     "end_time": "2025-06-04T20:11:22.464823Z",
     "start_time": "2025-06-04T20:11:22.448870Z"
    }
   },
   "cell_type": "code",
   "source": "g.min()",
   "id": "6a0a31f9d1697815",
   "outputs": [
    {
     "data": {
      "text/plain": [
       "               day  temperature  windspeed   event\n",
       "city                                              \n",
       "mumbai    1/1/2017           85          5     Fog\n",
       "new york  1/1/2017           28          6    Rain\n",
       "paris     1/1/2017           42          8  Cloudy"
      ],
      "text/html": [
       "<div>\n",
       "<style scoped>\n",
       "    .dataframe tbody tr th:only-of-type {\n",
       "        vertical-align: middle;\n",
       "    }\n",
       "\n",
       "    .dataframe tbody tr th {\n",
       "        vertical-align: top;\n",
       "    }\n",
       "\n",
       "    .dataframe thead th {\n",
       "        text-align: right;\n",
       "    }\n",
       "</style>\n",
       "<table border=\"1\" class=\"dataframe\">\n",
       "  <thead>\n",
       "    <tr style=\"text-align: right;\">\n",
       "      <th></th>\n",
       "      <th>day</th>\n",
       "      <th>temperature</th>\n",
       "      <th>windspeed</th>\n",
       "      <th>event</th>\n",
       "    </tr>\n",
       "    <tr>\n",
       "      <th>city</th>\n",
       "      <th></th>\n",
       "      <th></th>\n",
       "      <th></th>\n",
       "      <th></th>\n",
       "    </tr>\n",
       "  </thead>\n",
       "  <tbody>\n",
       "    <tr>\n",
       "      <th>mumbai</th>\n",
       "      <td>1/1/2017</td>\n",
       "      <td>85</td>\n",
       "      <td>5</td>\n",
       "      <td>Fog</td>\n",
       "    </tr>\n",
       "    <tr>\n",
       "      <th>new york</th>\n",
       "      <td>1/1/2017</td>\n",
       "      <td>28</td>\n",
       "      <td>6</td>\n",
       "      <td>Rain</td>\n",
       "    </tr>\n",
       "    <tr>\n",
       "      <th>paris</th>\n",
       "      <td>1/1/2017</td>\n",
       "      <td>42</td>\n",
       "      <td>8</td>\n",
       "      <td>Cloudy</td>\n",
       "    </tr>\n",
       "  </tbody>\n",
       "</table>\n",
       "</div>"
      ]
     },
     "execution_count": 13,
     "metadata": {},
     "output_type": "execute_result"
    }
   ],
   "execution_count": 13
  },
  {
   "metadata": {
    "ExecuteTime": {
     "end_time": "2025-06-04T20:11:34.845076Z",
     "start_time": "2025-06-04T20:11:34.783225Z"
    }
   },
   "cell_type": "code",
   "source": "g.describe()",
   "id": "f1fd3a35dfcbf9a3",
   "outputs": [
    {
     "data": {
      "text/plain": [
       "         temperature                                                   \\\n",
       "               count   mean       std   min    25%   50%    75%   max   \n",
       "city                                                                    \n",
       "mumbai           4.0  88.50  3.109126  85.0  86.50  88.5  90.50  92.0   \n",
       "new york         4.0  32.25  3.304038  28.0  31.00  32.5  33.75  36.0   \n",
       "paris            4.0  47.75  5.315073  42.0  44.25  47.5  51.00  54.0   \n",
       "\n",
       "         windspeed                                                 \n",
       "             count   mean       std  min   25%   50%    75%   max  \n",
       "city                                                               \n",
       "mumbai         4.0   9.25  5.057997  5.0  5.00   8.5  12.75  15.0  \n",
       "new york       4.0   8.00  2.708013  6.0  6.75   7.0   8.25  12.0  \n",
       "paris          4.0  12.75  5.251984  8.0  9.50  11.5  14.75  20.0  "
      ],
      "text/html": [
       "<div>\n",
       "<style scoped>\n",
       "    .dataframe tbody tr th:only-of-type {\n",
       "        vertical-align: middle;\n",
       "    }\n",
       "\n",
       "    .dataframe tbody tr th {\n",
       "        vertical-align: top;\n",
       "    }\n",
       "\n",
       "    .dataframe thead tr th {\n",
       "        text-align: left;\n",
       "    }\n",
       "\n",
       "    .dataframe thead tr:last-of-type th {\n",
       "        text-align: right;\n",
       "    }\n",
       "</style>\n",
       "<table border=\"1\" class=\"dataframe\">\n",
       "  <thead>\n",
       "    <tr>\n",
       "      <th></th>\n",
       "      <th colspan=\"8\" halign=\"left\">temperature</th>\n",
       "      <th colspan=\"8\" halign=\"left\">windspeed</th>\n",
       "    </tr>\n",
       "    <tr>\n",
       "      <th></th>\n",
       "      <th>count</th>\n",
       "      <th>mean</th>\n",
       "      <th>std</th>\n",
       "      <th>min</th>\n",
       "      <th>25%</th>\n",
       "      <th>50%</th>\n",
       "      <th>75%</th>\n",
       "      <th>max</th>\n",
       "      <th>count</th>\n",
       "      <th>mean</th>\n",
       "      <th>std</th>\n",
       "      <th>min</th>\n",
       "      <th>25%</th>\n",
       "      <th>50%</th>\n",
       "      <th>75%</th>\n",
       "      <th>max</th>\n",
       "    </tr>\n",
       "    <tr>\n",
       "      <th>city</th>\n",
       "      <th></th>\n",
       "      <th></th>\n",
       "      <th></th>\n",
       "      <th></th>\n",
       "      <th></th>\n",
       "      <th></th>\n",
       "      <th></th>\n",
       "      <th></th>\n",
       "      <th></th>\n",
       "      <th></th>\n",
       "      <th></th>\n",
       "      <th></th>\n",
       "      <th></th>\n",
       "      <th></th>\n",
       "      <th></th>\n",
       "      <th></th>\n",
       "    </tr>\n",
       "  </thead>\n",
       "  <tbody>\n",
       "    <tr>\n",
       "      <th>mumbai</th>\n",
       "      <td>4.0</td>\n",
       "      <td>88.50</td>\n",
       "      <td>3.109126</td>\n",
       "      <td>85.0</td>\n",
       "      <td>86.50</td>\n",
       "      <td>88.5</td>\n",
       "      <td>90.50</td>\n",
       "      <td>92.0</td>\n",
       "      <td>4.0</td>\n",
       "      <td>9.25</td>\n",
       "      <td>5.057997</td>\n",
       "      <td>5.0</td>\n",
       "      <td>5.00</td>\n",
       "      <td>8.5</td>\n",
       "      <td>12.75</td>\n",
       "      <td>15.0</td>\n",
       "    </tr>\n",
       "    <tr>\n",
       "      <th>new york</th>\n",
       "      <td>4.0</td>\n",
       "      <td>32.25</td>\n",
       "      <td>3.304038</td>\n",
       "      <td>28.0</td>\n",
       "      <td>31.00</td>\n",
       "      <td>32.5</td>\n",
       "      <td>33.75</td>\n",
       "      <td>36.0</td>\n",
       "      <td>4.0</td>\n",
       "      <td>8.00</td>\n",
       "      <td>2.708013</td>\n",
       "      <td>6.0</td>\n",
       "      <td>6.75</td>\n",
       "      <td>7.0</td>\n",
       "      <td>8.25</td>\n",
       "      <td>12.0</td>\n",
       "    </tr>\n",
       "    <tr>\n",
       "      <th>paris</th>\n",
       "      <td>4.0</td>\n",
       "      <td>47.75</td>\n",
       "      <td>5.315073</td>\n",
       "      <td>42.0</td>\n",
       "      <td>44.25</td>\n",
       "      <td>47.5</td>\n",
       "      <td>51.00</td>\n",
       "      <td>54.0</td>\n",
       "      <td>4.0</td>\n",
       "      <td>12.75</td>\n",
       "      <td>5.251984</td>\n",
       "      <td>8.0</td>\n",
       "      <td>9.50</td>\n",
       "      <td>11.5</td>\n",
       "      <td>14.75</td>\n",
       "      <td>20.0</td>\n",
       "    </tr>\n",
       "  </tbody>\n",
       "</table>\n",
       "</div>"
      ]
     },
     "execution_count": 14,
     "metadata": {},
     "output_type": "execute_result"
    }
   ],
   "execution_count": 14
  },
  {
   "metadata": {
    "ExecuteTime": {
     "end_time": "2025-06-04T20:11:50.506169Z",
     "start_time": "2025-06-04T20:11:50.499923Z"
    }
   },
   "cell_type": "code",
   "source": "g.size()",
   "id": "c56e16eb7f97cc7a",
   "outputs": [
    {
     "data": {
      "text/plain": [
       "city\n",
       "mumbai      4\n",
       "new york    4\n",
       "paris       4\n",
       "dtype: int64"
      ]
     },
     "execution_count": 15,
     "metadata": {},
     "output_type": "execute_result"
    }
   ],
   "execution_count": 15
  },
  {
   "metadata": {
    "ExecuteTime": {
     "end_time": "2025-06-04T20:12:02.296265Z",
     "start_time": "2025-06-04T20:12:02.279999Z"
    }
   },
   "cell_type": "code",
   "source": "g.count()",
   "id": "2cab53b1ee2811d2",
   "outputs": [
    {
     "data": {
      "text/plain": [
       "          day  temperature  windspeed  event\n",
       "city                                        \n",
       "mumbai      4            4          4      4\n",
       "new york    4            4          4      4\n",
       "paris       4            4          4      4"
      ],
      "text/html": [
       "<div>\n",
       "<style scoped>\n",
       "    .dataframe tbody tr th:only-of-type {\n",
       "        vertical-align: middle;\n",
       "    }\n",
       "\n",
       "    .dataframe tbody tr th {\n",
       "        vertical-align: top;\n",
       "    }\n",
       "\n",
       "    .dataframe thead th {\n",
       "        text-align: right;\n",
       "    }\n",
       "</style>\n",
       "<table border=\"1\" class=\"dataframe\">\n",
       "  <thead>\n",
       "    <tr style=\"text-align: right;\">\n",
       "      <th></th>\n",
       "      <th>day</th>\n",
       "      <th>temperature</th>\n",
       "      <th>windspeed</th>\n",
       "      <th>event</th>\n",
       "    </tr>\n",
       "    <tr>\n",
       "      <th>city</th>\n",
       "      <th></th>\n",
       "      <th></th>\n",
       "      <th></th>\n",
       "      <th></th>\n",
       "    </tr>\n",
       "  </thead>\n",
       "  <tbody>\n",
       "    <tr>\n",
       "      <th>mumbai</th>\n",
       "      <td>4</td>\n",
       "      <td>4</td>\n",
       "      <td>4</td>\n",
       "      <td>4</td>\n",
       "    </tr>\n",
       "    <tr>\n",
       "      <th>new york</th>\n",
       "      <td>4</td>\n",
       "      <td>4</td>\n",
       "      <td>4</td>\n",
       "      <td>4</td>\n",
       "    </tr>\n",
       "    <tr>\n",
       "      <th>paris</th>\n",
       "      <td>4</td>\n",
       "      <td>4</td>\n",
       "      <td>4</td>\n",
       "      <td>4</td>\n",
       "    </tr>\n",
       "  </tbody>\n",
       "</table>\n",
       "</div>"
      ]
     },
     "execution_count": 16,
     "metadata": {},
     "output_type": "execute_result"
    }
   ],
   "execution_count": 16
  },
  {
   "metadata": {
    "ExecuteTime": {
     "end_time": "2025-06-04T20:13:27.956460Z",
     "start_time": "2025-06-04T20:13:26.833161Z"
    }
   },
   "cell_type": "code",
   "source": [
    "%matplotlib inline\n",
    "g.plot()"
   ],
   "id": "b2a7b9887f0c2462",
   "outputs": [
    {
     "data": {
      "text/plain": [
       "city\n",
       "mumbai      Axes(0.125,0.11;0.775x0.77)\n",
       "new york    Axes(0.125,0.11;0.775x0.77)\n",
       "paris       Axes(0.125,0.11;0.775x0.77)\n",
       "dtype: object"
      ]
     },
     "execution_count": 18,
     "metadata": {},
     "output_type": "execute_result"
    },
    {
     "data": {
      "text/plain": [
       "<Figure size 640x480 with 1 Axes>"
      ],
      "image/png": "[encoded data removed]"
     },
     "metadata": {},
     "output_type": "display_data"
    },
    {
     "data": {
      "text/plain": [
       "<Figure size 640x480 with 1 Axes>"
      ],
      "image/png": "[encoded data removed]"
     },
     "metadata": {},
     "output_type": "display_data"
    },
    {
     "data": {
      "text/plain": [
       "<Figure size 640x480 with 1 Axes>"
      ],
      "image/png": "[encoded data removed]"
     },
     "metadata": {},
     "output_type": "display_data"
    }
   ],
   "execution_count": 18
  },
  {
   "metadata": {},
   "cell_type": "markdown",
   "source": [
    "Group data using custom function: Let's say you want to group your data using custom function. Here the requirement is to create three groups\n",
    "Days when temperature was between 80 and 90\n",
    "Days when it was between 50 and 60\n",
    "Days when it was anything else\n",
    "For this you need to write custom grouping function and pass that to groupby"
   ],
   "id": "8c84691b2f2f5ab1"
  },
  {
   "metadata": {
    "ExecuteTime": {
     "end_time": "2025-06-04T20:19:39.649573Z",
     "start_time": "2025-06-04T20:19:39.644425Z"
    }
   },
   "cell_type": "code",
   "source": [
    "def grouper(df, idx, col):\n",
    "    if 80 <= df[col].loc[idx] <= 90:\n",
    "        return '80-90'\n",
    "    elif 50 <= df[col].loc[idx] <= 60:\n",
    "        return '50-60'\n",
    "    else:\n",
    "        return 'others'"
   ],
   "id": "368efb2a33749ccc",
   "outputs": [],
   "execution_count": 19
  },
  {
   "metadata": {
    "ExecuteTime": {
     "end_time": "2025-06-04T20:21:13.938526Z",
     "start_time": "2025-06-04T20:21:13.910321Z"
    }
   },
   "cell_type": "code",
   "source": [
    "g = df.groupby(lambda x: grouper(df, x, 'temperature'))\n",
    "g"
   ],
   "id": "399a654e351420a",
   "outputs": [
    {
     "data": {
      "text/plain": [
       "<pandas.core.groupby.generic.DataFrameGroupBy object at 0x0000028772CCC7D0>"
      ]
     },
     "execution_count": 21,
     "metadata": {},
     "output_type": "execute_result"
    }
   ],
   "execution_count": 21
  },
  {
   "metadata": {
    "ExecuteTime": {
     "end_time": "2025-06-04T20:21:23.860931Z",
     "start_time": "2025-06-04T20:21:23.838629Z"
    }
   },
   "cell_type": "code",
   "source": [
    "for key, d in g:\n",
    "    print(\"Group by Key: {}\\n\".format(key))\n",
    "    print(d)"
   ],
   "id": "25bbbbca216220ef",
   "outputs": [
    {
     "name": "stdout",
     "output_type": "stream",
     "text": [
      "Group by Key: 50-60\n",
      "\n",
      "         day   city  temperature  windspeed   event\n",
      "9   1/2/2017  paris           50         13  Cloudy\n",
      "10  1/3/2017  paris           54          8  Cloudy\n",
      "Group by Key: 80-90\n",
      "\n",
      "        day    city  temperature  windspeed  event\n",
      "4  1/1/2017  mumbai           90          5  Sunny\n",
      "5  1/2/2017  mumbai           85         12    Fog\n",
      "6  1/3/2017  mumbai           87         15    Fog\n",
      "Group by Key: others\n",
      "\n",
      "         day      city  temperature  windspeed   event\n",
      "0   1/1/2017  new york           32          6    Rain\n",
      "1   1/2/2017  new york           36          7   Sunny\n",
      "2   1/3/2017  new york           28         12    Snow\n",
      "3   1/4/2017  new york           33          7   Sunny\n",
      "7   1/4/2017    mumbai           92          5    Rain\n",
      "8   1/1/2017     paris           45         20   Sunny\n",
      "11  1/4/2017     paris           42         10  Cloudy\n"
     ]
    }
   ],
   "execution_count": 22
  },
  {
   "metadata": {},
   "cell_type": "code",
   "outputs": [],
   "execution_count": null,
   "source": "",
   "id": "94f44b8fb2a21037"
  }
 ],
 "metadata": {
  "kernelspec": {
   "display_name": "Python 3",
   "language": "python",
   "name": "python3"
  },
  "language_info": {
   "codemirror_mode": {
    "name": "ipython",
    "version": 2
   },
   "file_extension": ".py",
   "mimetype": "text/x-python",
   "name": "python",
   "nbconvert_exporter": "python",
   "pygments_lexer": "ipython2",
   "version": "2.7.6"
  }
 },
 "nbformat": 4,
 "nbformat_minor": 5
}
